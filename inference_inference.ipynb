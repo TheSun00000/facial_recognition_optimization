{
 "cells": [
  {
   "cell_type": "code",
   "execution_count": 1,
   "metadata": {},
   "outputs": [
    {
     "name": "stderr",
     "output_type": "stream",
     "text": [
      "2022-10-16 09:18:00.731424: W tensorflow/stream_executor/platform/default/dso_loader.cc:64] Could not load dynamic library 'libcudart.so.11.0'; dlerror: libcudart.so.11.0: cannot open shared object file: No such file or directory\n",
      "2022-10-16 09:18:00.731479: I tensorflow/stream_executor/cuda/cudart_stub.cc:29] Ignore above cudart dlerror if you do not have a GPU set up on your machine.\n"
     ]
    }
   ],
   "source": [
    "import matplotlib.pyplot as plt\n",
    "import numpy as np\n",
    "import os\n",
    "import tensorflow as tf\n",
    "from tqdm import tqdm"
   ]
  },
  {
   "cell_type": "code",
   "execution_count": 2,
   "metadata": {},
   "outputs": [],
   "source": [
    "def moving_average(l, step):\n",
    "    res = []\n",
    "    for i in range(1, len(l)-step-1):\n",
    "        res.append(sum(l[i:i+step]) / step)\n",
    "    return res\n",
    "\n",
    "def accuracy(preds, labels):\n",
    "    preds = np.array(preds)\n",
    "    labels = np.array(labels)\n",
    "    acc = sum(preds == labels) / len(preds)\n",
    "    return acc"
   ]
  },
  {
   "cell_type": "markdown",
   "metadata": {},
   "source": [
    "## Read data:"
   ]
  },
  {
   "cell_type": "code",
   "execution_count": 5,
   "metadata": {},
   "outputs": [],
   "source": [
    "data_dir = 'dataset/final_images/'\n",
    "batch_size = 1\n",
    "img_height = 160\n",
    "img_width = 160\n",
    "IMG_SIZE = (img_height, img_width)"
   ]
  },
  {
   "cell_type": "code",
   "execution_count": 6,
   "metadata": {},
   "outputs": [
    {
     "name": "stdout",
     "output_type": "stream",
     "text": [
      "Found 1352 images belonging to 5 classes.\n",
      "Found 336 images belonging to 5 classes.\n"
     ]
    }
   ],
   "source": [
    "datagen = tf.keras.preprocessing.image.ImageDataGenerator(\n",
    "    validation_split=0.2,\n",
    "    preprocessing_function = tf.keras.applications.mobilenet_v2.preprocess_input\n",
    ")\n",
    "\n",
    "train_generator = datagen.flow_from_directory(\n",
    "    data_dir,\n",
    "    seed=123,\n",
    "    target_size=(img_height, img_width),\n",
    "    batch_size=batch_size,\n",
    "    class_mode='categorical',\n",
    "    subset='training') # set as training data\n",
    "\n",
    "validation_generator = datagen.flow_from_directory(\n",
    "    data_dir, # same directory as training data\n",
    "    seed=123,\n",
    "    target_size=(img_height, img_width),\n",
    "    batch_size=batch_size,\n",
    "    class_mode='categorical',\n",
    "    subset='validation') "
   ]
  },
  {
   "cell_type": "markdown",
   "metadata": {},
   "source": [
    "## Build model:"
   ]
  },
  {
   "cell_type": "code",
   "execution_count": 78,
   "metadata": {},
   "outputs": [],
   "source": [
    "model = tf.keras.models.load_model('models/celeb5_model_ft10.tf')"
   ]
  },
  {
   "cell_type": "code",
   "execution_count": 79,
   "metadata": {},
   "outputs": [
    {
     "name": "stdout",
     "output_type": "stream",
     "text": [
      "336/336 [==============================] - 13s 34ms/step - loss: 0.5155 - accuracy: 0.9345\n"
     ]
    }
   ],
   "source": [
    "loss, acc = model.evaluate(validation_generator)"
   ]
  },
  {
   "cell_type": "markdown",
   "metadata": {},
   "source": [
    "## Finetuned lite model:"
   ]
  },
  {
   "cell_type": "code",
   "execution_count": 6,
   "metadata": {},
   "outputs": [],
   "source": [
    "with open('models/finetune_lite_model_celeb5', 'rb') as file:\n",
    "    tflite_model_bin = file.read()"
   ]
  },
  {
   "cell_type": "code",
   "execution_count": 8,
   "metadata": {},
   "outputs": [
    {
     "name": "stderr",
     "output_type": "stream",
     "text": [
      "INFO: Created TensorFlow Lite XNNPACK delegate for CPU.\n"
     ]
    }
   ],
   "source": [
    "interpreter = tf.lite.Interpreter(model_content=tflite_model_bin)\n",
    "interpreter.allocate_tensors()  # Needed before execution!"
   ]
  },
  {
   "cell_type": "code",
   "execution_count": 9,
   "metadata": {},
   "outputs": [
    {
     "name": "stderr",
     "output_type": "stream",
     "text": [
      "evaluting interpreter: 100%|██████████| 336/336 [00:06<00:00, 49.37it/s]\n"
     ]
    }
   ],
   "source": [
    "predicted_labels = []\n",
    "actual_labels = []\n",
    "\n",
    "for i in tqdm(range(len(validation_generator)), desc='evaluting interpreter'):\n",
    "\n",
    "    input_image, label = validation_generator[i]\n",
    "\n",
    "    input = interpreter.get_input_details()[0]\n",
    "    output = interpreter.get_output_details()[0]\n",
    "\n",
    "    interpreter.set_tensor(input['index'], input_image)\n",
    "    interpreter.invoke()\n",
    "    output = interpreter.get_tensor(output['index']).argmax().item()\n",
    "\n",
    "    predicted_labels += [output]\n",
    "    actual_labels += [label.argmax(-1)[0]]"
   ]
  },
  {
   "cell_type": "code",
   "execution_count": 11,
   "metadata": {},
   "outputs": [
    {
     "data": {
      "text/plain": [
       "0.9345238095238095"
      ]
     },
     "execution_count": 11,
     "metadata": {},
     "output_type": "execute_result"
    }
   ],
   "source": [
    "accuracy(predicted_labels, actual_labels)"
   ]
  },
  {
   "cell_type": "markdown",
   "metadata": {},
   "source": [
    "## Training aware quantisized model: "
   ]
  },
  {
   "cell_type": "code",
   "execution_count": 14,
   "metadata": {},
   "outputs": [],
   "source": [
    "with open('models/finetune_lite_model_celeb5_qnt19', 'rb') as file:\n",
    "    tflite_model_train_qnt_bin = file.read()\n",
    "\n",
    "train_qnt_interpreter = tf.lite.Interpreter(model_content=tflite_model_train_qnt_bin)\n",
    "train_qnt_interpreter.allocate_tensors()  # Needed before execution!"
   ]
  },
  {
   "cell_type": "code",
   "execution_count": 3,
   "metadata": {},
   "outputs": [
    {
     "ename": "NameError",
     "evalue": "name 'validation_generator' is not defined",
     "output_type": "error",
     "traceback": [
      "\u001b[0;31m---------------------------------------------------------------------------\u001b[0m",
      "\u001b[0;31mNameError\u001b[0m                                 Traceback (most recent call last)",
      "\u001b[0;32m/tmp/ipykernel_108612/1686214089.py\u001b[0m in \u001b[0;36m<module>\u001b[0;34m\u001b[0m\n\u001b[1;32m      2\u001b[0m \u001b[0mactual_labels\u001b[0m \u001b[0;34m=\u001b[0m \u001b[0;34m[\u001b[0m\u001b[0;34m]\u001b[0m\u001b[0;34m\u001b[0m\u001b[0;34m\u001b[0m\u001b[0m\n\u001b[1;32m      3\u001b[0m \u001b[0;34m\u001b[0m\u001b[0m\n\u001b[0;32m----> 4\u001b[0;31m \u001b[0;32mfor\u001b[0m \u001b[0mi\u001b[0m \u001b[0;32min\u001b[0m \u001b[0mtqdm\u001b[0m\u001b[0;34m(\u001b[0m\u001b[0mrange\u001b[0m\u001b[0;34m(\u001b[0m\u001b[0mlen\u001b[0m\u001b[0;34m(\u001b[0m\u001b[0mvalidation_generator\u001b[0m\u001b[0;34m)\u001b[0m\u001b[0;34m)\u001b[0m\u001b[0;34m,\u001b[0m \u001b[0mdesc\u001b[0m\u001b[0;34m=\u001b[0m\u001b[0;34m'evaluting interpreter'\u001b[0m\u001b[0;34m)\u001b[0m\u001b[0;34m:\u001b[0m\u001b[0;34m\u001b[0m\u001b[0;34m\u001b[0m\u001b[0m\n\u001b[0m\u001b[1;32m      5\u001b[0m \u001b[0;34m\u001b[0m\u001b[0m\n\u001b[1;32m      6\u001b[0m     \u001b[0minput_image\u001b[0m\u001b[0;34m,\u001b[0m \u001b[0mlabel\u001b[0m \u001b[0;34m=\u001b[0m \u001b[0mvalidation_generator\u001b[0m\u001b[0;34m[\u001b[0m\u001b[0mi\u001b[0m\u001b[0;34m]\u001b[0m\u001b[0;34m\u001b[0m\u001b[0;34m\u001b[0m\u001b[0m\n",
      "\u001b[0;31mNameError\u001b[0m: name 'validation_generator' is not defined"
     ]
    }
   ],
   "source": [
    "predicted_labels = []\n",
    "actual_labels = []\n",
    "\n",
    "for i in tqdm(range(len(validation_generator)), desc='evaluting interpreter'):\n",
    "\n",
    "    input_image, label = validation_generator[i]\n",
    "\n",
    "    input  = train_qnt_interpreter.get_input_details()[0]\n",
    "    output = train_qnt_interpreter.get_output_details()[0]\n",
    "\n",
    "    train_qnt_interpreter.set_tensor(input['index'], input_image)\n",
    "    train_qnt_interpreter.invoke()\n",
    "    output = train_qnt_interpreter.get_tensor(output['index']).argmax().item()\n",
    "\n",
    "    predicted_labels += [output]\n",
    "    actual_labels += [label.argmax(-1)[0]]\n",
    "\n",
    "accuracy(predicted_labels, actual_labels)"
   ]
  },
  {
   "cell_type": "markdown",
   "metadata": {},
   "source": [
    "## Post quantization:"
   ]
  },
  {
   "cell_type": "code",
   "execution_count": 7,
   "metadata": {},
   "outputs": [
    {
     "name": "stderr",
     "output_type": "stream",
     "text": [
      "2022-10-04 10:58:02.783102: W tensorflow/stream_executor/platform/default/dso_loader.cc:64] Could not load dynamic library 'libcuda.so.1'; dlerror: libcuda.so.1: cannot open shared object file: No such file or directory\n",
      "2022-10-04 10:58:02.783194: W tensorflow/stream_executor/cuda/cuda_driver.cc:269] failed call to cuInit: UNKNOWN ERROR (303)\n",
      "2022-10-04 10:58:02.783237: I tensorflow/stream_executor/cuda/cuda_diagnostics.cc:156] kernel driver does not appear to be running on this host (Nazim): /proc/driver/nvidia/version does not exist\n",
      "2022-10-04 10:58:02.784344: I tensorflow/core/platform/cpu_feature_guard.cc:151] This TensorFlow binary is optimized with oneAPI Deep Neural Network Library (oneDNN) to use the following CPU instructions in performance-critical operations:  AVX2 FMA\n",
      "To enable them in other operations, rebuild TensorFlow with the appropriate compiler flags.\n",
      "2022-10-04 10:58:32.315041: W tensorflow/python/util/util.cc:368] Sets are not currently considered sequences, but this may change in the future, so consider avoiding using them.\n"
     ]
    },
    {
     "name": "stdout",
     "output_type": "stream",
     "text": [
      "INFO:tensorflow:Assets written to: /tmp/tmp3l6zt7mp/assets\n"
     ]
    },
    {
     "name": "stderr",
     "output_type": "stream",
     "text": [
      "2022-10-04 10:59:07.100112: W tensorflow/compiler/mlir/lite/python/tf_tfl_flatbuffer_helpers.cc:357] Ignored output_format.\n",
      "2022-10-04 10:59:07.100181: W tensorflow/compiler/mlir/lite/python/tf_tfl_flatbuffer_helpers.cc:360] Ignored drop_control_dependency.\n",
      "2022-10-04 10:59:07.103760: I tensorflow/cc/saved_model/reader.cc:43] Reading SavedModel from: /tmp/tmp3l6zt7mp\n",
      "2022-10-04 10:59:07.183421: I tensorflow/cc/saved_model/reader.cc:78] Reading meta graph with tags { serve }\n",
      "2022-10-04 10:59:07.183516: I tensorflow/cc/saved_model/reader.cc:119] Reading SavedModel debug info (if present) from: /tmp/tmp3l6zt7mp\n",
      "2022-10-04 10:59:07.443694: I tensorflow/cc/saved_model/loader.cc:228] Restoring SavedModel bundle.\n",
      "2022-10-04 10:59:08.730472: I tensorflow/cc/saved_model/loader.cc:212] Running initialization op on SavedModel bundle at path: /tmp/tmp3l6zt7mp\n",
      "2022-10-04 10:59:09.279259: I tensorflow/cc/saved_model/loader.cc:301] SavedModel load for tags { serve }; Status: success: OK. Took 2175539 microseconds.\n",
      "2022-10-04 10:59:10.543602: I tensorflow/compiler/mlir/tensorflow/utils/dump_mlir_util.cc:237] disabling MLIR crash reproducer, set env var `MLIR_CRASH_REPRODUCER_DIRECTORY` to enable.\n",
      "2022-10-04 10:59:12.093033: I tensorflow/lite/tools/optimize/quantize_weights.cc:225] Skipping quantization of tensor model_2/Conv1/Conv2D because it has fewer than 1024 elements (864).\n",
      "2022-10-04 10:59:12.093164: I tensorflow/lite/tools/optimize/quantize_weights.cc:225] Skipping quantization of tensor model_2/expanded_conv_depthwise_BN/FusedBatchNormV3;model_2/expanded_conv_depthwise/depthwise;model_2/block_5_project/Conv2D because it has fewer than 1024 elements (288).\n",
      "2022-10-04 10:59:12.093176: I tensorflow/lite/tools/optimize/quantize_weights.cc:225] Skipping quantization of tensor model_2/expanded_conv_project/Conv2D because it has fewer than 1024 elements (512).\n",
      "2022-10-04 10:59:12.093192: I tensorflow/lite/tools/optimize/quantize_weights.cc:225] Skipping quantization of tensor model_2/block_1_depthwise_BN/FusedBatchNormV3;model_2/block_1_depthwise/depthwise;model_2/block_12_project/Conv2D because it has fewer than 1024 elements (864).\n",
      "WARNING:absl:Buffer deduplication procedure will be skipped when flatbuffer library is not properly loaded\n"
     ]
    }
   ],
   "source": [
    "model = tf.keras.models.load_model('models/celeb5_model_ft10.tf')\n",
    "\n",
    "converter = tf.lite.TFLiteConverter.from_keras_model(model)\n",
    "converter.optimizations = [tf.lite.Optimize.DEFAULT]\n",
    "dynamic_quant_model = converter.convert()   "
   ]
  },
  {
   "cell_type": "code",
   "execution_count": 11,
   "metadata": {},
   "outputs": [],
   "source": [
    "dynamic_qnt_interpreter = tf.lite.Interpreter(model_content=dynamic_quant_model)\n",
    "dynamic_qnt_interpreter.allocate_tensors()"
   ]
  },
  {
   "cell_type": "code",
   "execution_count": 12,
   "metadata": {},
   "outputs": [
    {
     "name": "stderr",
     "output_type": "stream",
     "text": [
      "evaluting interpreter: 100%|██████████| 336/336 [02:50<00:00,  1.97it/s]\n"
     ]
    },
    {
     "data": {
      "text/plain": [
       "0.9375"
      ]
     },
     "execution_count": 12,
     "metadata": {},
     "output_type": "execute_result"
    }
   ],
   "source": [
    "predicted_labels = []\n",
    "actual_labels = []\n",
    "\n",
    "for i in tqdm(range(len(validation_generator)), desc='evaluting interpreter'):\n",
    "\n",
    "    input_image, label = validation_generator[i]\n",
    "\n",
    "    input  = dynamic_qnt_interpreter.get_input_details()[0]\n",
    "    output = dynamic_qnt_interpreter.get_output_details()[0]\n",
    "\n",
    "    dynamic_qnt_interpreter.set_tensor(input['index'], input_image)\n",
    "    dynamic_qnt_interpreter.invoke()\n",
    "    output = dynamic_qnt_interpreter.get_tensor(output['index']).argmax().item()\n",
    "\n",
    "    predicted_labels += [output]\n",
    "    actual_labels += [label.argmax(-1)[0]]\n",
    "\n",
    "accuracy(predicted_labels, actual_labels)"
   ]
  }
 ],
 "metadata": {
  "interpreter": {
   "hash": "916dbcbb3f70747c44a77c7bcd40155683ae19c65e1c03b4aa3499c5328201f1"
  },
  "kernelspec": {
   "display_name": "Python 3.8.10 64-bit",
   "language": "python",
   "name": "python3"
  },
  "language_info": {
   "codemirror_mode": {
    "name": "ipython",
    "version": 3
   },
   "file_extension": ".py",
   "mimetype": "text/x-python",
   "name": "python",
   "nbconvert_exporter": "python",
   "pygments_lexer": "ipython3",
   "version": "3.8.10"
  },
  "orig_nbformat": 4
 },
 "nbformat": 4,
 "nbformat_minor": 2
}
